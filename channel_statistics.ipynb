{
 "cells": [
  {
   "cell_type": "code",
   "execution_count": null,
   "id": "55677bc5-bb2c-45c3-80da-3674eae6eb69",
   "metadata": {},
   "outputs": [],
   "source": [
    "import numpy as np\n",
    "import pandas as pd\n",
    "import configparser\n",
    "from googleapiclient.discovery import build"
   ]
  },
  {
   "cell_type": "code",
   "execution_count": null,
   "id": "2fb73e15-e01c-4b75-94d3-f2e707f117b4",
   "metadata": {},
   "outputs": [],
   "source": [
    "config = configparser.ConfigParser()\n",
    "config.read('config.ini')\n",
    "api_key = config['youtube']['api_key']\n",
    "youtube = build('youtube', 'v3', developerKey=api_key)"
   ]
  },
  {
   "cell_type": "code",
   "execution_count": null,
   "id": "e8b2a861-be7d-4d85-9989-1b40c9ecf8f2",
   "metadata": {},
   "outputs": [],
   "source": [
    "channel_name = pd.read_csv('data_channels.txt')\n",
    "channel_name = channel_name.transpose()\n",
    "channel_name.columns = ['Music','Gaming','Auto and Vehicles','Sports','Travel']\n",
    "channel_name=channel_name.drop('Category',axis=0)"
   ]
  },
  {
   "cell_type": "code",
   "execution_count": null,
   "id": "4cd340d8-44e8-4ab1-acca-7e5b7548226c",
   "metadata": {},
   "outputs": [],
   "source": [
    "def get_channel_stats(channel_name):\n",
    "    search_response = youtube.search().list(\n",
    "        q=channel_name,\n",
    "        part='snippet',\n",
    "        type='channel',\n",
    "        maxResults=1  # We want the top result only\n",
    "    ).execute()\n",
    "    \n",
    "    if 'items' not in search_response or len(search_response['items']) == 0:\n",
    "        print(f\"No channel found for: {channel_name}\")\n",
    "        return None\n",
    "    \n",
    "    channel_id = search_response['items'][0]['snippet']['channelId']\n",
    "    \n",
    "    channel_response = youtube.channels().list(\n",
    "        id=channel_id,\n",
    "        part='snippet,statistics'  # Fetch snippet (basic info) and statistics\n",
    "    ).execute()\n",
    "    \n",
    "    if 'items' in channel_response and len(channel_response['items']) > 0:\n",
    "        channel_data = channel_response['items'][0]\n",
    "        \n",
    "        channel_title = channel_data['snippet']['title']\n",
    "        channel_description = channel_data['snippet']['description']\n",
    "        view_count = channel_data['statistics'].get('viewCount', 'N/A')\n",
    "        subscriber_count = channel_data['statistics'].get('subscriberCount', 'N/A')\n",
    "        video_count = channel_data['statistics'].get('videoCount', 'N/A')\n",
    "\n",
    "        print(f\"Channel Title: {channel_title}\")\n",
    "        print(f\"Channel ID: {channel_id}\")\n",
    "        print(f\"Description: {channel_description}\")\n",
    "        print(f\"View Count: {view_count}\")\n",
    "        print(f\"Subscriber Count: {subscriber_count}\")\n",
    "        print(f\"Video Count: {video_count}\")\n",
    "\n",
    "        return {\n",
    "            'channel_title': channel_title,\n",
    "            'channel_id': channel_id,\n",
    "            'description': channel_description,\n",
    "            'view_count': view_count,\n",
    "            'subscriber_count': subscriber_count,\n",
    "            'video_count': video_count\n",
    "        }\n",
    "    else:\n",
    "        print(f\"No statistics found for channel ID: {channel_id}\")\n",
    "        return None\n"
   ]
  },
  {
   "cell_type": "code",
   "execution_count": null,
   "id": "a8da1e95-c868-424c-b865-7d3f6080eded",
   "metadata": {},
   "outputs": [],
   "source": [
    "df_melted = channel_name.melt(var_name='Category', value_name='Channel')"
   ]
  },
  {
   "cell_type": "code",
   "execution_count": null,
   "id": "a5a201b7-68c1-4f10-aa3c-8e640eb8f4dd",
   "metadata": {},
   "outputs": [],
   "source": [
    "channel_data = df_melted['Channel'].apply(get_channel_stats)"
   ]
  },
  {
   "cell_type": "code",
   "execution_count": null,
   "id": "6c02e2f7-2b44-4bb3-8b1f-c89609b63a81",
   "metadata": {},
   "outputs": [],
   "source": [
    "channel_df = pd.json_normalize(channel_data)\n",
    "channel_df['Category'] = df_melted.Category"
   ]
  }
 ],
 "metadata": {
  "kernelspec": {
   "display_name": "Python 3 (ipykernel)",
   "language": "python",
   "name": "python3"
  },
  "language_info": {
   "codemirror_mode": {
    "name": "ipython",
    "version": 3
   },
   "file_extension": ".py",
   "mimetype": "text/x-python",
   "name": "python",
   "nbconvert_exporter": "python",
   "pygments_lexer": "ipython3",
   "version": "3.11.5"
  }
 },
 "nbformat": 4,
 "nbformat_minor": 5
}
