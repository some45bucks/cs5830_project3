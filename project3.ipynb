{
 "cells": [
  {
   "cell_type": "markdown",
   "metadata": {},
   "source": [
    "# Setup"
   ]
  },
  {
   "cell_type": "code",
   "execution_count": 1,
   "metadata": {},
   "outputs": [],
   "source": [
    "import os\n",
    "import googleapiclient.discovery\n",
    "import googleapiclient.errors\n",
    "import pandas as pd"
   ]
  },
  {
   "cell_type": "code",
   "execution_count": 2,
   "metadata": {},
   "outputs": [],
   "source": [
    "CHANNELS_BY_CATEGORY = {\n",
    "    'Auto & Vehicles': {\n",
    "                'Stokes twins squad':'UCbp9MyKCTEww4CxEzc_Tp0Q', \n",
    "                'DASH CAM CN':'UCJZpPG8wegZJ3rsnc6-Bpnw', \n",
    "                'Supercar Blondie':'UC0_7evGVYla1lREeXjN_JLg',\n",
    "                'The Classic Motorcycle Channel':'UCtjWY31B54jqxRFQM9xyhDw',\n",
    "                'Salai Sathish777':'UCaEUPNkdnbQROROKm09SGoQ',\n",
    "                'Exotic Rubber':'UCF2eaKLl9I8yXg31FW3GH2g',\n",
    "                'Sarah Lezito':'UCT7dKiVfnUSRk7ckOfIwWvw',\n",
    "                'San Razka':'UCcDiv0JjkAnirZvcwcZYXTw',\n",
    "                'Suvo Stunts':'UCzRnN9ntMZf83mquKpT6a0w',\n",
    "                'Nikolai Savic':'UCqcRe8F3rETPbzOFJHzk'\n",
    "    },\n",
    "    'Entertainment': {\n",
    "                'Anaya Kandhal':'UCJTqi2KOenudYnEOUSAj5Hg',\n",
    "                'Toys and Colors':'UCIte5_YtyuMKsSytQDgWdMA',\n",
    "                'J House jr.':'UCGHGx_VOEWUE_WINENxxKbA',\n",
    "                'Sierra & Rhia FAM':'UCe6n0z9UbsxYCS8P83f84tw',\n",
    "                'KL BRO Biju Rithvik':'UCABNiUtltfp4piL69GD2BmA',\n",
    "                'StarPlus':'UCAGZZ-Ua-yB-fqObs1GKzag',\n",
    "                'MrBeast':'UClD832S2f_F_W4epwAd5sOw',\n",
    "                'HAR PAL GEO':'UCNoMrALPTsDJaNiIdMk_kCw',\n",
    "                'Upin & Ipin':'UCB8VtllrypUr7YP9WiYuXCA',\n",
    "                'Dylan Anderson':'UCRY8HfhFV5w9toYlR8bfupQ'\n",
    "    },\n",
    "    'Gaming': {\n",
    "                'Linh Nhi Shorts':'UCOGJ0sPUo9_39Qiru4Lx51w',\n",
    "                'Animal World':'UCEexsbjV02l4bPWfyNlMJ3A',\n",
    "                'LankyBox':'UCU7d91rxwcqHh-fSgCNU73Q',\n",
    "                'Kissy Show':'UCRA3T1IofrU3HSys0FJGbZQ',\n",
    "                'FACT FIRE KING':'UCDjrDvzuRUmwIBmY8GBOPVw',\n",
    "                'Daquavis':'UCvwYaSSj-ceh5-nfSv71WKw',\n",
    "                'Sinotal Gaming':'UCe6qB7dYiurwyKSxrgCdmLA',\n",
    "                'LetsPlay':'UCia7dsxxnoUsJMicn-0gbTw',\n",
    "                'Nahz':'UCq-BiqUyulZMOZEr0xtGOjg',\n",
    "                'Canva India':'UC2V8gNWRrOrBFOm08tNSugQ'\n",
    "    },\n",
    "    'Sports': {\n",
    "                'Celine Dept':'UCTq7Bs_Whk-WYwhU9CoezCQ',\n",
    "                'WWE':'UC2NNoTGy7-nNSA1DOefkCpA',\n",
    "                'Red Bull':'UCuLq0ME8tqK6pzCm9rpkwjQ',\n",
    "                'House of Highlights':'UCYXbyePIPf6lJkOuVvdugQw',\n",
    "                'YOLO AVENTURAS':'UCqTxve5-0sVxxBB8dX3DkFA',\n",
    "                'SportsNation':'UC7dzGIZnOoGVjODipT1183Q',\n",
    "                'UR · Cristiano':'UCHzgN0TNou2bCHkLsCV-tLw',\n",
    "                'Omar Raja - ESPN':'UCLFhLRABMCFl5H6hS-NgrPg',\n",
    "                'ESPN':'UCGVx9_dtZD0MuFdNxmNL1eg',\n",
    "                'Score 90 Shorts':'UCbVtlOOHT_3VMKhuM1d9ziA'\n",
    "    },\n",
    "    'Music': { \n",
    "                'Seyhan Müzik':'UCNqr9QkPw2ThS6reZ_VglVA',\n",
    "                'T-Series':'UCpN-WGQgGsOrXm7nHXDdTDA',\n",
    "                'SHADE Of Love':'UCR5hcvWZc9XlSEK7sPlMpTw',\n",
    "                'Sony Music South':'UCXNslTpQcYUNS1g6TEwQ_bQ',\n",
    "                'El Payaso Plim Plim':'UCHU3DmaXhrrZ9oBQF7TnpIQ',\n",
    "                'Saregama Music':'UCerohJ7AcKkilNALvAx6-_w',\n",
    "                'Zee Music Company':'UCE-C1Zk9eL5K-aGJcLGurrw',\n",
    "                # 'Prvnci':'',\n",
    "                'Tips Official':'UCohjG0ZUU_VTvgZ_EpM0OrA',\n",
    "                'The Weeknd':'UCPY2tjsvvV_Y1l_n9LxaLnQ'\n",
    "    }\n",
    "}"
   ]
  },
  {
   "cell_type": "code",
   "execution_count": 3,
   "metadata": {},
   "outputs": [],
   "source": [
    "with open('secret/secret.txt') as f:\n",
    "    api_key = f.readline().strip()\n",
    "\n",
    "youtube = googleapiclient.discovery.build(\"youtube\", \"v3\", developerKey=api_key)"
   ]
  },
  {
   "cell_type": "markdown",
   "metadata": {},
   "source": [
    "# Load and Cache"
   ]
  },
  {
   "cell_type": "markdown",
   "metadata": {},
   "source": [
    "loads channel data"
   ]
  },
  {
   "cell_type": "code",
   "execution_count": 4,
   "metadata": {},
   "outputs": [],
   "source": [
    "def get_and_add_playlist_id_to_dataframe(dataframe, channel_ids):\n",
    "    playlist_ids = []\n",
    "    for channel_id in channel_ids:\n",
    "        request = youtube.channels().list(\n",
    "            part=\"contentDetails\",\n",
    "            id=channel_id\n",
    "        )\n",
    "        response = request.execute()\n",
    "        playlist_ids.append(response['items'][0]['contentDetails']['relatedPlaylists']['uploads'])\n",
    "    dataframe['playlist_id'] = playlist_ids\n",
    "    return dataframe"
   ]
  },
  {
   "cell_type": "markdown",
   "metadata": {},
   "source": [
    "loads video data"
   ]
  },
  {
   "cell_type": "code",
   "execution_count": 5,
   "metadata": {},
   "outputs": [],
   "source": [
    "def get_video_data(video_data_path, channel_data):\n",
    "    if os.path.exists(video_data_path):\n",
    "        video_data = pd.read_csv(video_data_path)\n",
    "    else:\n",
    "        video_data = pd.DataFrame(columns=[\"video_id\", \"video_title\", \"view_count\", \"like_count\", \"dislike_count\", \"comment_count\"])\n",
    "        video_ids = {}\n",
    "        all_video_ids = \"\"\n",
    "        try:\n",
    "            for playlist_id in channel_data[\"playlist_id\"]:\n",
    "\n",
    "                try:\n",
    "                    request = youtube.playlistItems().list(\n",
    "                        part=\"snippet\",\n",
    "                        playlistId=playlist_id,\n",
    "                        maxResults=100,\n",
    "\n",
    "                    )\n",
    "\n",
    "                    response = request.execute()\n",
    "                except Exception as e:\n",
    "                    print(f\"Error {e}\")\n",
    "                    response = {\"items\": []}\n",
    "                    continue\n",
    "\n",
    "                for item in response[\"items\"][:min(100, len(response[\"items\"]))]:\n",
    "                    try:\n",
    "                        id = item[\"snippet\"][\"resourceId\"][\"videoId\"]\n",
    "                        video_ids[id] = playlist_id\n",
    "                        if all_video_ids == \"\":\n",
    "                            all_video_ids += id\n",
    "                        else:\n",
    "                            all_video_ids += ',' + id\n",
    "                    except KeyError:\n",
    "                        continue\n",
    "\n",
    "                if len(all_video_ids) > 10 or playlist_id == channel_data[\"playlist_id\"][-1]:\n",
    "\n",
    "                    video_request = youtube.videos().list(\n",
    "                        part=\"snippet,statistics\",\n",
    "                        id=all_video_ids\n",
    "                    )\n",
    "\n",
    "                    video_response = video_request.execute()\n",
    "\n",
    "                    for video in video_response[\"items\"]:\n",
    "\n",
    "                        try:\n",
    "                            video_id = video[\"id\"]\n",
    "                        except KeyError:\n",
    "                            video_id = float('nan')\n",
    "                        try:\n",
    "                            view_count = video[\"statistics\"][\"viewCount\"]\n",
    "                        except KeyError:\n",
    "                            view_count = float('nan')\n",
    "                        try:\n",
    "                            like_count = video[\"statistics\"][\"likeCount\"]\n",
    "                        except KeyError:\n",
    "                            like_count = float('nan')\n",
    "                        try:\n",
    "                            dislike_count = video[\"statistics\"][\"dislikeCount\"]\n",
    "                        except KeyError:\n",
    "                            dislike_count = float('nan')\n",
    "                        try:\n",
    "                            comment_count = video[\"statistics\"][\"commentCount\"]\n",
    "                        except KeyError:\n",
    "                            comment_count = float('nan')\n",
    "                        try:\n",
    "                            video_title = video[\"snippet\"][\"title\"]\n",
    "                        except KeyError:\n",
    "                            video_title = float('nan')\n",
    "\n",
    "                        row = pd.DataFrame({\n",
    "                            \"video_id\": [video_id],\n",
    "                            \"playlist_id\": [video_ids[video_id]],\n",
    "                            \"video_title\": [video_title],\n",
    "                            \"view_count\": [view_count],\n",
    "                            \"like_count\": [like_count],\n",
    "                            \"dislike_count\": [dislike_count],\n",
    "                            \"comment_count\": [comment_count]\n",
    "                        })\n",
    "\n",
    "                        video_data = pd.concat([video_data, row], ignore_index=True)\n",
    "\n",
    "                    all_video_ids = \"\"\n",
    "                    video_ids = {}\n",
    "\n",
    "        except Exception as e:\n",
    "            print(f\"Error {e}\")\n",
    "            video_response = {\"items\": []}\n",
    "\n",
    "        \n",
    "\n",
    "        if len(video_data) > 0:    \n",
    "            video_data.to_csv(video_data_path, index=False)\n",
    "    \n",
    "    return video_data"
   ]
  },
  {
   "cell_type": "markdown",
   "metadata": {},
   "source": [
    "loads comment data"
   ]
  },
  {
   "cell_type": "code",
   "execution_count": 6,
   "metadata": {},
   "outputs": [],
   "source": [
    "CACHE_PATH = \".cache\"\n",
    "\n",
    "if not os.path.exists(CACHE_PATH):\n",
    "    os.makedirs(CACHE_PATH)"
   ]
  },
  {
   "cell_type": "code",
   "execution_count": null,
   "metadata": {},
   "outputs": [],
   "source": [
    "channel_data_path = f\"ChannelID_Data.csv\"\n",
    "video_data_path = f\"{CACHE_PATH}/video_data.csv\"\n",
    "comment_data_path = f\"{CACHE_PATH}/comment_data.csv\"\n",
    "\n",
    "channel_data =  pd.read_csv(channel_data_path)\n",
    "video_data = get_video_data(video_data_path, channel_data)\n",
    "data = {\n",
    "    \"channel_data\": channel_data,\n",
    "    \"video_data\": video_data\n",
    "}    "
   ]
  },
  {
   "cell_type": "markdown",
   "metadata": {},
   "source": [
    "# Use Data"
   ]
  },
  {
   "cell_type": "code",
   "execution_count": null,
   "metadata": {},
   "outputs": [],
   "source": [
    "for key in data:\n",
    "    print(key)\n",
    "    display(data[key].head())"
   ]
  }
 ],
 "metadata": {
  "kernelspec": {
   "display_name": "youtubeapi",
   "language": "python",
   "name": "python3"
  },
  "language_info": {
   "codemirror_mode": {
    "name": "ipython",
    "version": 3
   },
   "file_extension": ".py",
   "mimetype": "text/x-python",
   "name": "python",
   "nbconvert_exporter": "python",
   "pygments_lexer": "ipython3",
   "version": "3.10.15"
  }
 },
 "nbformat": 4,
 "nbformat_minor": 2
}
