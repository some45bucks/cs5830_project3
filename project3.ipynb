{
 "cells": [
  {
   "cell_type": "markdown",
   "metadata": {},
   "source": [
    "# Setup"
   ]
  },
  {
   "cell_type": "code",
   "execution_count": 183,
   "metadata": {},
   "outputs": [],
   "source": [
    "import os\n",
    "import googleapiclient.discovery\n",
    "import googleapiclient.errors\n",
    "import pandas as pd"
   ]
  },
  {
   "cell_type": "code",
   "execution_count": 184,
   "metadata": {},
   "outputs": [],
   "source": [
    "with open('secret/secret.txt') as f:\n",
    "    api_key = f.readline().strip()\n",
    "\n",
    "youtube = googleapiclient.discovery.build(\"youtube\", \"v3\", developerKey=api_key)"
   ]
  },
  {
   "cell_type": "markdown",
   "metadata": {},
   "source": [
    "# Load and Cache"
   ]
  },
  {
   "cell_type": "code",
   "execution_count": 185,
   "metadata": {},
   "outputs": [],
   "source": [
    "def get_and_add_playlist_id_to_dataframe(dataframe, channel_ids):\n",
    "    playlist_ids = []\n",
    "    for channel_id in channel_ids:\n",
    "        request = youtube.channels().list(\n",
    "            part=\"contentDetails\",\n",
    "            id=channel_id\n",
    "        )\n",
    "        response = request.execute()\n",
    "        playlist_ids.append(response['items'][0]['contentDetails']['relatedPlaylists']['uploads'])\n",
    "    dataframe['playlist_id'] = playlist_ids\n",
    "    return dataframe"
   ]
  },
  {
   "cell_type": "code",
   "execution_count": 186,
   "metadata": {},
   "outputs": [],
   "source": [
    "import ast\n",
    "\n",
    "def get_video_data(video_data_path, channel_data):\n",
    "    if os.path.exists(video_data_path):\n",
    "        video_data = pd.read_csv(video_data_path)\n",
    "    else:\n",
    "        video_data = pd.DataFrame(columns=[\"channel_id\",\"video_id\", \"video_title\", \"publish_date\" ,\"view_count\", \"like_count\", \"dislike_count\", \"comment_count\", \"default_language\", \"duration\",\"has_paid_product_placement\"])\n",
    "\n",
    "        try:\n",
    "            for id,channel_id in zip(channel_data[\"video_id\"],channel_data[\"channel_id\"]):\n",
    "\n",
    "                video_request = youtube.videos().list(\n",
    "                    part=\"snippet,statistics,contentDetails\",\n",
    "                    id=id\n",
    "                )\n",
    "\n",
    "                video_response = video_request.execute()\n",
    "\n",
    "                for video in video_response[\"items\"]:\n",
    "\n",
    "                    try:\n",
    "                        video_id = video[\"id\"]\n",
    "                    except KeyError:\n",
    "                        video_id = float('nan')\n",
    "                    try:\n",
    "                        view_count = video[\"statistics\"][\"viewCount\"]\n",
    "                    except KeyError:\n",
    "                        view_count = float('nan')\n",
    "                    try:\n",
    "                        like_count = video[\"statistics\"][\"likeCount\"]\n",
    "                    except KeyError:\n",
    "                        like_count = float('nan')\n",
    "                    try:\n",
    "                        dislike_count = video[\"statistics\"][\"dislikeCount\"]\n",
    "                    except KeyError:\n",
    "                        dislike_count = float('nan')\n",
    "                    try:\n",
    "                        comment_count = video[\"statistics\"][\"commentCount\"]\n",
    "                    except KeyError:\n",
    "                        comment_count = float('nan')\n",
    "                    try:\n",
    "                        video_title = video[\"snippet\"][\"title\"]\n",
    "                    except KeyError:\n",
    "                        video_title = float('nan')\n",
    "                    try:\n",
    "                        publish_date = video[\"snippet\"][\"publishedAt\"]\n",
    "                    except KeyError:\n",
    "                        publish_date = float('nan')\n",
    "                    try:\n",
    "                        default_language = video[\"snippet\"][\"defaultLanguage\"]\n",
    "                    except KeyError:\n",
    "                        default_language = float('nan')\n",
    "                    try:\n",
    "                        duration = video[\"contentDetails\"][\"duration\"]\n",
    "                    except KeyError:\n",
    "                        duration = float('nan')\n",
    "                    try:\n",
    "                        has_paid_product_placement = video[\"contentDetails\"][\"hasPaidProductPlacement\"]\n",
    "                    except KeyError:\n",
    "                        has_paid_product_placement = float('nan')\n",
    "                    \n",
    "\n",
    "                    row = pd.DataFrame({\n",
    "                        \"video_id\": [video_id],\n",
    "                        \"channel_id\": [channel_id],\n",
    "                        \"video_title\": [video_title],\n",
    "                        \"view_count\": [view_count],\n",
    "                        \"like_count\": [like_count],\n",
    "                        \"dislike_count\": [dislike_count],\n",
    "                        \"comment_count\": [comment_count],\n",
    "                        \"publish_date\": [publish_date],\n",
    "                        \"default_language\": [default_language],\n",
    "                        \"duration\": [duration],\n",
    "                        \"has_paid_product_placement\": [has_paid_product_placement]\n",
    "                    })\n",
    "\n",
    "                    video_data = pd.concat([video_data, row], ignore_index=True)\n",
    "\n",
    "        except Exception as e:\n",
    "            print(f\"Error {e}\")\n",
    "            video_response = {\"items\": []}\n",
    "\n",
    "        if len(video_data) > 0:    \n",
    "            video_data.to_csv(video_data_path, index=False)\n",
    "    \n",
    "    return video_data"
   ]
  },
  {
   "cell_type": "code",
   "execution_count": 187,
   "metadata": {},
   "outputs": [],
   "source": [
    "channel_data_path = f\"ChannelID_Data.csv\"\n",
    "video_data_path = f\"video_data.csv\"\n",
    "\n",
    "channel_data =  pd.read_csv(channel_data_path)\n",
    "video_data = pd.read_csv(video_data_path)\n",
    " "
   ]
  },
  {
   "cell_type": "markdown",
   "metadata": {},
   "source": [
    "# Clean Data"
   ]
  },
  {
   "cell_type": "code",
   "execution_count": null,
   "metadata": {},
   "outputs": [],
   "source": [
    "channel_data = channel_data.drop(columns=['Unnamed: 0'])\n",
    "video_data = video_data.drop(columns=['dislike_count'])\n",
    "\n",
    "# merge by channel_id\n",
    "merged_data = pd.merge(channel_data, video_data, on=\"channel_id\")\n",
    "display(merged_data.head(1))"
   ]
  },
  {
   "cell_type": "code",
   "execution_count": null,
   "metadata": {},
   "outputs": [],
   "source": [
    "#rename view_x to channel_view_count\n",
    "merged_data.rename(columns = {'view_count_x':'channel_view_count'}, inplace = True)\n",
    "\n",
    "#rename view_y to video_view_count\n",
    "merged_data.rename(columns = {'view_count_y':'video_view_count'}, inplace = True)\n",
    "\n",
    "# duration in seconds\n",
    "merged_data[\"duration\"] = merged_data[\"duration\"].apply(lambda x: pd.to_timedelta(x).seconds)\n",
    "\n",
    "# convert publish_date to datetime\n",
    "merged_data[\"publish_date\"] = pd.to_datetime(merged_data[\"publish_date\"])\n",
    "\n",
    "# change default_language nan to \"none\"\n",
    "merged_data[\"default_language\"] = merged_data[\"default_language\"].fillna(\"none\")\n",
    "\n",
    "# drop has paid product placement\n",
    "merged_data = merged_data.drop(columns=[\"has_paid_product_placement\"])\n",
    "\n",
    "# drop nan values\n",
    "merged_data = merged_data.dropna()\n",
    "\n",
    "# convert number data to ints\n",
    "merged_data[\"video_view_count\"] = merged_data[\"video_view_count\"].astype(int)\n",
    "merged_data[\"channel_view_count\"] = merged_data[\"channel_view_count\"].astype(int)\n",
    "merged_data[\"like_count\"] = merged_data[\"like_count\"].astype(int)\n",
    "merged_data[\"comment_count\"] = merged_data[\"comment_count\"].astype(int)\n",
    "merged_data[\"subscriber_count\"] = merged_data[\"subscriber_count\"].astype(int)\n",
    "merged_data[\"video_count\"] = merged_data[\"video_count\"].astype(int)\n",
    "\n",
    "display(merged_data.head(3))"
   ]
  },
  {
   "cell_type": "code",
   "execution_count": null,
   "metadata": {},
   "outputs": [],
   "source": [
    "# add is in covid column (2020-2021)\n",
    "merged_data[\"is_in_covid\"] = merged_data[\"publish_date\"].apply(lambda x: 1 if x.year >= 2020 and x.year <= 2021 else 0)\n",
    "\n",
    "# engagment_comments (comments/video_view)\n",
    "merged_data[\"engagement_comments\"] = merged_data[\"comment_count\"] / merged_data[\"video_view_count\"]\n",
    "\n",
    "# engagment_likes (likes/video_view)\n",
    "merged_data[\"engagement_likes\"] = merged_data[\"like_count\"] / merged_data[\"video_view_count\"]\n",
    "\n",
    "# engagment_subscribers (subscribers/video_view)\n",
    "merged_data[\"engagement_subscribers\"] = merged_data[\"subscriber_count\"] / merged_data[\"video_view_count\"]\n",
    "\n",
    "# view per subscriber (channel_view/subscribers)\n",
    "merged_data[\"view_per_subscriber\"] = merged_data[\"channel_view_count\"] / merged_data[\"subscriber_count\"]\n",
    "\n",
    "# video view per total channel view (video_view/channel_view)\n",
    "merged_data[\"video_view_per_total_channel_view\"] = merged_data[\"video_view_count\"] / merged_data[\"channel_view_count\"]\n",
    "\n",
    "# video views per video count (video_view/video_count)\n",
    "merged_data[\"video_views_per_video_count\"] = merged_data[\"channel_view_count\"] / merged_data[\"video_count\"]\n",
    "\n",
    "display(merged_data.head(3))"
   ]
  }
 ],
 "metadata": {
  "kernelspec": {
   "display_name": "youtubeapi",
   "language": "python",
   "name": "python3"
  },
  "language_info": {
   "codemirror_mode": {
    "name": "ipython",
    "version": 3
   },
   "file_extension": ".py",
   "mimetype": "text/x-python",
   "name": "python",
   "nbconvert_exporter": "python",
   "pygments_lexer": "ipython3",
   "version": "3.10.15"
  }
 },
 "nbformat": 4,
 "nbformat_minor": 2
}
