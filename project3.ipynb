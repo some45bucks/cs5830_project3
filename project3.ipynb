{
 "cells": [
  {
   "cell_type": "markdown",
   "metadata": {},
   "source": [
    "# Setup"
   ]
  },
  {
   "cell_type": "code",
   "execution_count": 9,
   "metadata": {},
   "outputs": [],
   "source": [
    "import os\n",
    "import googleapiclient.discovery\n",
    "import googleapiclient.errors\n",
    "import pandas as pd"
   ]
  },
  {
   "cell_type": "code",
   "execution_count": 10,
   "metadata": {},
   "outputs": [],
   "source": [
    "with open('secret/secret.txt') as f:\n",
    "    api_key = f.readline().strip()\n",
    "\n",
    "youtube = googleapiclient.discovery.build(\"youtube\", \"v3\", developerKey=api_key)"
   ]
  },
  {
   "cell_type": "markdown",
   "metadata": {},
   "source": [
    "# Load and Cache"
   ]
  },
  {
   "cell_type": "code",
   "execution_count": 11,
   "metadata": {},
   "outputs": [],
   "source": [
    "def get_and_add_playlist_id_to_dataframe(dataframe, channel_ids):\n",
    "    playlist_ids = []\n",
    "    for channel_id in channel_ids:\n",
    "        request = youtube.channels().list(\n",
    "            part=\"contentDetails\",\n",
    "            id=channel_id\n",
    "        )\n",
    "        response = request.execute()\n",
    "        playlist_ids.append(response['items'][0]['contentDetails']['relatedPlaylists']['uploads'])\n",
    "    dataframe['playlist_id'] = playlist_ids\n",
    "    return dataframe"
   ]
  },
  {
   "cell_type": "code",
   "execution_count": 12,
   "metadata": {},
   "outputs": [],
   "source": [
    "import ast\n",
    "\n",
    "def get_video_data(video_data_path, channel_data):\n",
    "    if os.path.exists(video_data_path):\n",
    "        video_data = pd.read_csv(video_data_path)\n",
    "    else:\n",
    "        video_data = pd.DataFrame(columns=[\"channel_id\",\"video_id\", \"video_title\", \"publish_date\" ,\"view_count\", \"like_count\", \"dislike_count\", \"comment_count\"])\n",
    "        video_ids = {}\n",
    "        all_video_ids = \"\"\n",
    "        try:\n",
    "            for list_string,channel_id in zip(channel_data[\"Video_ID\"],channel_data[\"channel_id\"]):\n",
    "                ids_list = ast.literal_eval(list_string)\n",
    "\n",
    "                for id in ids_list:\n",
    "\n",
    "                    video_ids[id] = channel_id\n",
    "\n",
    "                    if all_video_ids == \"\":\n",
    "                        all_video_ids += id\n",
    "                    else:\n",
    "                        all_video_ids += ',' + id\n",
    "\n",
    "                    if len(all_video_ids) > 10:\n",
    "\n",
    "                        video_request = youtube.videos().list(\n",
    "                            part=\"snippet,statistics\",\n",
    "                            id=all_video_ids\n",
    "                        )\n",
    "\n",
    "                        video_response = video_request.execute()\n",
    "\n",
    "                        for video in video_response[\"items\"]:\n",
    "\n",
    "                            try:\n",
    "                                video_id = video[\"id\"]\n",
    "                            except KeyError:\n",
    "                                video_id = float('nan')\n",
    "                            try:\n",
    "                                view_count = video[\"statistics\"][\"viewCount\"]\n",
    "                            except KeyError:\n",
    "                                view_count = float('nan')\n",
    "                            try:\n",
    "                                like_count = video[\"statistics\"][\"likeCount\"]\n",
    "                            except KeyError:\n",
    "                                like_count = float('nan')\n",
    "                            try:\n",
    "                                dislike_count = video[\"statistics\"][\"dislikeCount\"]\n",
    "                            except KeyError:\n",
    "                                dislike_count = float('nan')\n",
    "                            try:\n",
    "                                comment_count = video[\"statistics\"][\"commentCount\"]\n",
    "                            except KeyError:\n",
    "                                comment_count = float('nan')\n",
    "                            try:\n",
    "                                video_title = video[\"snippet\"][\"title\"]\n",
    "                            except KeyError:\n",
    "                                video_title = float('nan')\n",
    "                            try:\n",
    "                                publish_date = video[\"snippet\"][\"publishedAt\"]\n",
    "                            except KeyError:\n",
    "                                publish_date = float('nan')\n",
    "\n",
    "                            row = pd.DataFrame({\n",
    "                                \"video_id\": [video_id],\n",
    "                                \"channel_id\": [video_ids[video_id]],\n",
    "                                \"video_title\": [video_title],\n",
    "                                \"view_count\": [view_count],\n",
    "                                \"like_count\": [like_count],\n",
    "                                \"dislike_count\": [dislike_count],\n",
    "                                \"comment_count\": [comment_count],\n",
    "                                \"publish_date\": [publish_date]\n",
    "                            })\n",
    "\n",
    "                            video_data = pd.concat([video_data, row], ignore_index=True)\n",
    "\n",
    "                        all_video_ids = \"\"\n",
    "                        video_ids = {}\n",
    "\n",
    "        except Exception as e:\n",
    "            print(f\"Error {e}\")\n",
    "            video_response = {\"items\": []}\n",
    "\n",
    "        \n",
    "\n",
    "        if len(video_data) > 0:    \n",
    "            video_data.to_csv(video_data_path, index=False)\n",
    "    \n",
    "    return video_data"
   ]
  },
  {
   "cell_type": "code",
   "execution_count": 13,
   "metadata": {},
   "outputs": [],
   "source": [
    "channel_data_path = f\"ChannelID_Data.csv\"\n",
    "video_data_path = f\"video_data.csv\"\n",
    "\n",
    "channel_data =  pd.read_csv(channel_data_path)\n",
    "video_data = pd.read_csv(video_data_path)\n",
    " "
   ]
  },
  {
   "cell_type": "markdown",
   "metadata": {},
   "source": [
    "# Use Data"
   ]
  },
  {
   "cell_type": "code",
   "execution_count": null,
   "metadata": {},
   "outputs": [],
   "source": [
    "display(channel_data.head())\n",
    "display(video_data.head())"
   ]
  }
 ],
 "metadata": {
  "kernelspec": {
   "display_name": "youtubeapi",
   "language": "python",
   "name": "python3"
  },
  "language_info": {
   "codemirror_mode": {
    "name": "ipython",
    "version": 3
   },
   "file_extension": ".py",
   "mimetype": "text/x-python",
   "name": "python",
   "nbconvert_exporter": "python",
   "pygments_lexer": "ipython3",
   "version": "3.10.15"
  }
 },
 "nbformat": 4,
 "nbformat_minor": 2
}
